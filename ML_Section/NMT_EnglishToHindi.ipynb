{
  "nbformat": 4,
  "nbformat_minor": 0,
  "metadata": {
    "kernelspec": {
      "display_name": "Python 3 (ipykernel)",
      "language": "python",
      "name": "python3"
    },
    "language_info": {
      "codemirror_mode": {
        "name": "ipython",
        "version": 3
      },
      "file_extension": ".py",
      "mimetype": "text/x-python",
      "name": "python",
      "nbconvert_exporter": "python",
      "pygments_lexer": "ipython3",
      "version": "3.8.8"
    },
    "papermill": {
      "duration": 12695.219492,
      "end_time": "2020-09-23T13:10:28.354384",
      "environment_variables": {},
      "exception": null,
      "input_path": "__notebook__.ipynb",
      "output_path": "__notebook__.ipynb",
      "parameters": {},
      "start_time": "2020-09-23T09:38:53.134892",
      "version": "2.1.0"
    },
    "colab": {
      "name": "NMT_EnglishToHindi.ipynb",
      "provenance": [],
      "collapsed_sections": []
    }
  },
  "cells": [
    {
      "cell_type": "code",
      "metadata": {
        "id": "y-Q7f0Vmxuyd",
        "colab": {
          "base_uri": "https://localhost:8080/"
        },
        "outputId": "bbb8da8b-2e50-4b5f-e61c-dc8b82a762f6"
      },
      "source": [
        "from google.colab import drive\n",
        "drive.mount('/content/drive')"
      ],
      "execution_count": 1,
      "outputs": [
        {
          "output_type": "stream",
          "name": "stdout",
          "text": [
            "Mounted at /content/drive\n"
          ]
        }
      ]
    },
    {
      "cell_type": "code",
      "metadata": {
        "_cell_guid": "79c7e3d0-c299-4dcb-8224-4455121ee9b0",
        "_uuid": "d629ff2d2480ee46fbb7e2d37f6b5fab8052498a",
        "papermill": {
          "duration": 7.238067,
          "end_time": "2020-09-23T09:39:04.821539",
          "exception": false,
          "start_time": "2020-09-23T09:38:57.583472",
          "status": "completed"
        },
        "tags": [],
        "id": "JO4w3k8wxh-z"
      },
      "source": [
        "import numpy as np\n",
        "import pandas as pd\n",
        "import tensorflow\n",
        "import keras\n",
        "from keras.models import Model\n",
        "from keras.layers import Input, LSTM, Dense, Embedding\n",
        "from string import digits\n",
        "import nltk\n",
        "import re\n",
        "import string"
      ],
      "execution_count": 2,
      "outputs": []
    },
    {
      "cell_type": "code",
      "metadata": {
        "papermill": {
          "duration": 6.200355,
          "end_time": "2020-09-23T09:39:11.055243",
          "exception": false,
          "start_time": "2020-09-23T09:39:04.854888",
          "status": "completed"
        },
        "tags": [],
        "id": "pXHn5dtYxh-5",
        "colab": {
          "base_uri": "https://localhost:8080/",
          "height": 204
        },
        "outputId": "96a6d46d-3619-4b3a-b52a-cf59802dad2f"
      },
      "source": [
        "lines = pd.read_csv('/content/drive/MyDrive/NMT_Data/Hindi_English_Corpus.csv')\n",
        "lines = lines[lines['source']=='ted']\n",
        "lines.head()"
      ],
      "execution_count": 3,
      "outputs": [
        {
          "output_type": "execute_result",
          "data": {
            "text/html": [
              "<div>\n",
              "<style scoped>\n",
              "    .dataframe tbody tr th:only-of-type {\n",
              "        vertical-align: middle;\n",
              "    }\n",
              "\n",
              "    .dataframe tbody tr th {\n",
              "        vertical-align: top;\n",
              "    }\n",
              "\n",
              "    .dataframe thead th {\n",
              "        text-align: right;\n",
              "    }\n",
              "</style>\n",
              "<table border=\"1\" class=\"dataframe\">\n",
              "  <thead>\n",
              "    <tr style=\"text-align: right;\">\n",
              "      <th></th>\n",
              "      <th>source</th>\n",
              "      <th>english_sentence</th>\n",
              "      <th>hindi_sentence</th>\n",
              "    </tr>\n",
              "  </thead>\n",
              "  <tbody>\n",
              "    <tr>\n",
              "      <th>0</th>\n",
              "      <td>ted</td>\n",
              "      <td>politicians do not have permission to do what ...</td>\n",
              "      <td>राजनीतिज्ञों के पास जो कार्य करना चाहिए, वह कर...</td>\n",
              "    </tr>\n",
              "    <tr>\n",
              "      <th>1</th>\n",
              "      <td>ted</td>\n",
              "      <td>I'd like to tell you about one such child,</td>\n",
              "      <td>मई आपको ऐसे ही एक बच्चे के बारे में बताना चाहू...</td>\n",
              "    </tr>\n",
              "    <tr>\n",
              "      <th>3</th>\n",
              "      <td>ted</td>\n",
              "      <td>what we really mean is that they're bad at not...</td>\n",
              "      <td>हम ये नहीं कहना चाहते कि वो ध्यान नहीं दे पाते</td>\n",
              "    </tr>\n",
              "    <tr>\n",
              "      <th>7</th>\n",
              "      <td>ted</td>\n",
              "      <td>And who are we to say, even, that they are wrong</td>\n",
              "      <td>और हम होते कौन हैं यह कहने भी वाले कि वे गलत हैं</td>\n",
              "    </tr>\n",
              "    <tr>\n",
              "      <th>13</th>\n",
              "      <td>ted</td>\n",
              "      <td>So there is some sort of justice</td>\n",
              "      <td>तो वहाँ न्याय है</td>\n",
              "    </tr>\n",
              "  </tbody>\n",
              "</table>\n",
              "</div>"
            ],
            "text/plain": [
              "   source  ...                                     hindi_sentence\n",
              "0     ted  ...  राजनीतिज्ञों के पास जो कार्य करना चाहिए, वह कर...\n",
              "1     ted  ...  मई आपको ऐसे ही एक बच्चे के बारे में बताना चाहू...\n",
              "3     ted  ...     हम ये नहीं कहना चाहते कि वो ध्यान नहीं दे पाते\n",
              "7     ted  ...   और हम होते कौन हैं यह कहने भी वाले कि वे गलत हैं\n",
              "13    ted  ...                                   तो वहाँ न्याय है\n",
              "\n",
              "[5 rows x 3 columns]"
            ]
          },
          "metadata": {},
          "execution_count": 3
        }
      ]
    },
    {
      "cell_type": "code",
      "metadata": {
        "papermill": {
          "duration": 0.096161,
          "end_time": "2020-09-23T09:39:11.184873",
          "exception": false,
          "start_time": "2020-09-23T09:39:11.088712",
          "status": "completed"
        },
        "tags": [],
        "id": "eVnsNJFaxh-6"
      },
      "source": [
        "# Lowercase all characters\n",
        "lines['english_sentence']=lines['english_sentence'].apply(lambda x: str(x))\n",
        "lines['hindi_sentence']=lines['hindi_sentence'].apply(lambda x: str(x))\n",
        "lines['english_sentence']=lines['english_sentence'].apply(lambda x: x.lower())\n",
        "lines['hindi_sentence']=lines['hindi_sentence'].apply(lambda x: x.lower())"
      ],
      "execution_count": 4,
      "outputs": []
    },
    {
      "cell_type": "code",
      "metadata": {
        "papermill": {
          "duration": 0.141979,
          "end_time": "2020-09-23T09:39:11.438299",
          "exception": false,
          "start_time": "2020-09-23T09:39:11.296320",
          "status": "completed"
        },
        "tags": [],
        "id": "qdS3sZA8xh-7"
      },
      "source": [
        "# Remove quotes\n",
        "lines['english_sentence']=lines['english_sentence'].apply(lambda x: re.sub(\"'\", '', x))\n",
        "lines['hindi_sentence']=lines['hindi_sentence'].apply(lambda x: re.sub(\"'\", '', x))"
      ],
      "execution_count": 5,
      "outputs": []
    },
    {
      "cell_type": "code",
      "metadata": {
        "papermill": {
          "duration": 0.290333,
          "end_time": "2020-09-23T09:39:11.848533",
          "exception": false,
          "start_time": "2020-09-23T09:39:11.558200",
          "status": "completed"
        },
        "tags": [],
        "id": "yk7RsI3Exh-8"
      },
      "source": [
        "exclude = set(string.punctuation) # Set of all special characters\n",
        "# Remove all the special characters\n",
        "lines['english_sentence']=lines['english_sentence'].apply(lambda x: ''.join(ch for ch in x if ch not in exclude))\n",
        "lines['hindi_sentence']=lines['hindi_sentence'].apply(lambda x: ''.join(ch for ch in x if ch not in exclude))"
      ],
      "execution_count": 6,
      "outputs": []
    },
    {
      "cell_type": "code",
      "metadata": {
        "papermill": {
          "duration": 0.048414,
          "end_time": "2020-09-23T09:39:11.932888",
          "exception": false,
          "start_time": "2020-09-23T09:39:11.884474",
          "status": "completed"
        },
        "tags": [],
        "id": "EiwkdmMnxh-9",
        "colab": {
          "base_uri": "https://localhost:8080/",
          "height": 204
        },
        "outputId": "434bb0ad-7cea-44a4-e987-d245c05987ae"
      },
      "source": [
        "lines.head()"
      ],
      "execution_count": 7,
      "outputs": [
        {
          "output_type": "execute_result",
          "data": {
            "text/html": [
              "<div>\n",
              "<style scoped>\n",
              "    .dataframe tbody tr th:only-of-type {\n",
              "        vertical-align: middle;\n",
              "    }\n",
              "\n",
              "    .dataframe tbody tr th {\n",
              "        vertical-align: top;\n",
              "    }\n",
              "\n",
              "    .dataframe thead th {\n",
              "        text-align: right;\n",
              "    }\n",
              "</style>\n",
              "<table border=\"1\" class=\"dataframe\">\n",
              "  <thead>\n",
              "    <tr style=\"text-align: right;\">\n",
              "      <th></th>\n",
              "      <th>source</th>\n",
              "      <th>english_sentence</th>\n",
              "      <th>hindi_sentence</th>\n",
              "    </tr>\n",
              "  </thead>\n",
              "  <tbody>\n",
              "    <tr>\n",
              "      <th>0</th>\n",
              "      <td>ted</td>\n",
              "      <td>politicians do not have permission to do what ...</td>\n",
              "      <td>राजनीतिज्ञों के पास जो कार्य करना चाहिए वह करन...</td>\n",
              "    </tr>\n",
              "    <tr>\n",
              "      <th>1</th>\n",
              "      <td>ted</td>\n",
              "      <td>id like to tell you about one such child</td>\n",
              "      <td>मई आपको ऐसे ही एक बच्चे के बारे में बताना चाहूंगी</td>\n",
              "    </tr>\n",
              "    <tr>\n",
              "      <th>3</th>\n",
              "      <td>ted</td>\n",
              "      <td>what we really mean is that theyre bad at not ...</td>\n",
              "      <td>हम ये नहीं कहना चाहते कि वो ध्यान नहीं दे पाते</td>\n",
              "    </tr>\n",
              "    <tr>\n",
              "      <th>7</th>\n",
              "      <td>ted</td>\n",
              "      <td>and who are we to say even that they are wrong</td>\n",
              "      <td>और हम होते कौन हैं यह कहने भी वाले कि वे गलत हैं</td>\n",
              "    </tr>\n",
              "    <tr>\n",
              "      <th>13</th>\n",
              "      <td>ted</td>\n",
              "      <td>so there is some sort of justice</td>\n",
              "      <td>तो वहाँ न्याय है</td>\n",
              "    </tr>\n",
              "  </tbody>\n",
              "</table>\n",
              "</div>"
            ],
            "text/plain": [
              "   source  ...                                     hindi_sentence\n",
              "0     ted  ...  राजनीतिज्ञों के पास जो कार्य करना चाहिए वह करन...\n",
              "1     ted  ...  मई आपको ऐसे ही एक बच्चे के बारे में बताना चाहूंगी\n",
              "3     ted  ...     हम ये नहीं कहना चाहते कि वो ध्यान नहीं दे पाते\n",
              "7     ted  ...   और हम होते कौन हैं यह कहने भी वाले कि वे गलत हैं\n",
              "13    ted  ...                                   तो वहाँ न्याय है\n",
              "\n",
              "[5 rows x 3 columns]"
            ]
          },
          "metadata": {},
          "execution_count": 7
        }
      ]
    },
    {
      "cell_type": "code",
      "metadata": {
        "papermill": {
          "duration": 0.520604,
          "end_time": "2020-09-23T09:39:12.914143",
          "exception": false,
          "start_time": "2020-09-23T09:39:12.393539",
          "status": "completed"
        },
        "tags": [],
        "id": "hj-9zEoFxh-_"
      },
      "source": [
        "# Remove all numbers from text\n",
        "remove_digits = str.maketrans('', '', digits)\n",
        "lines['english_sentence']=lines['english_sentence'].apply(lambda x: x.translate(remove_digits))\n",
        "lines['hindi_sentence']=lines['hindi_sentence'].apply(lambda x: x.translate(remove_digits))\n",
        "\n",
        "lines['hindi_sentence'] = lines['hindi_sentence'].apply(lambda x: re.sub(\"[२३०८१५७९४६]\", \"\", x))\n",
        "\n",
        "# Remove extra spaces\n",
        "lines['english_sentence']=lines['english_sentence'].apply(lambda x: x.strip())\n",
        "lines['hindi_sentence']=lines['hindi_sentence'].apply(lambda x: x.strip())\n",
        "lines['english_sentence']=lines['english_sentence'].apply(lambda x: re.sub(\" +\", \" \", x))\n",
        "lines['hindi_sentence']=lines['hindi_sentence'].apply(lambda x: re.sub(\" +\", \" \", x))"
      ],
      "execution_count": 8,
      "outputs": []
    },
    {
      "cell_type": "code",
      "metadata": {
        "papermill": {
          "duration": 0.065815,
          "end_time": "2020-09-23T09:39:13.193126",
          "exception": false,
          "start_time": "2020-09-23T09:39:13.127311",
          "status": "completed"
        },
        "tags": [],
        "id": "-2OBK55cxh_C"
      },
      "source": [
        "# Add start and end tokens to target sequences\n",
        "lines['hindi_sentence'] = lines['hindi_sentence'].apply(lambda x : 'START_ '+ x + ' _END')"
      ],
      "execution_count": 9,
      "outputs": []
    },
    {
      "cell_type": "code",
      "metadata": {
        "papermill": {
          "duration": 0.143303,
          "end_time": "2020-09-23T09:39:13.469110",
          "exception": false,
          "start_time": "2020-09-23T09:39:13.325807",
          "status": "completed"
        },
        "tags": [],
        "id": "knywiWoyxh_D"
      },
      "source": [
        "### Get English and Hindi Vocabulary\n",
        "all_eng_words=set()\n",
        "for eng in lines['english_sentence']:\n",
        "    for word in eng.split():\n",
        "        if word not in all_eng_words:\n",
        "            all_eng_words.add(word)\n",
        "\n",
        "all_hindi_words=set()\n",
        "for hin in lines['hindi_sentence']:\n",
        "    for word in hin.split():\n",
        "        if word not in all_hindi_words:\n",
        "            all_hindi_words.add(word)"
      ],
      "execution_count": 10,
      "outputs": []
    },
    {
      "cell_type": "code",
      "metadata": {
        "papermill": {
          "duration": 0.116523,
          "end_time": "2020-09-23T09:39:13.724138",
          "exception": false,
          "start_time": "2020-09-23T09:39:13.607615",
          "status": "completed"
        },
        "tags": [],
        "id": "FDBvHsQoxh_E"
      },
      "source": [
        "lines['length_eng']=lines['english_sentence'].apply(lambda x:len(x.split(\" \")))\n",
        "lines['length_hin']=lines['hindi_sentence'].apply(lambda x:len(x.split(\" \")))"
      ],
      "execution_count": 11,
      "outputs": []
    },
    {
      "cell_type": "code",
      "metadata": {
        "papermill": {
          "duration": 0.075116,
          "end_time": "2020-09-23T09:39:13.839062",
          "exception": false,
          "start_time": "2020-09-23T09:39:13.763946",
          "status": "completed"
        },
        "tags": [],
        "id": "Xwkil2Ydxh_G",
        "colab": {
          "base_uri": "https://localhost:8080/"
        },
        "outputId": "11ae0cb7-ccf6-48b5-b97f-9a8a7e48592c"
      },
      "source": [
        "lines.head()\n",
        "lines[lines['length_eng']>30].shape"
      ],
      "execution_count": 12,
      "outputs": [
        {
          "output_type": "execute_result",
          "data": {
            "text/plain": [
              "(0, 5)"
            ]
          },
          "metadata": {},
          "execution_count": 12
        }
      ]
    },
    {
      "cell_type": "code",
      "metadata": {
        "papermill": {
          "duration": 0.056741,
          "end_time": "2020-09-23T09:39:13.936134",
          "exception": false,
          "start_time": "2020-09-23T09:39:13.879393",
          "status": "completed"
        },
        "tags": [],
        "id": "KS-VP7gtxh_G"
      },
      "source": [
        "lines=lines[lines['length_eng']<=20]\n",
        "lines=lines[lines['length_hin']<=20]"
      ],
      "execution_count": 13,
      "outputs": []
    },
    {
      "cell_type": "code",
      "metadata": {
        "papermill": {
          "duration": 0.061834,
          "end_time": "2020-09-23T09:39:14.038701",
          "exception": false,
          "start_time": "2020-09-23T09:39:13.976867",
          "status": "completed"
        },
        "tags": [],
        "id": "tdIexkvFxh_H",
        "colab": {
          "base_uri": "https://localhost:8080/"
        },
        "outputId": "d65cb7fa-fb34-4411-926e-02b467e47957"
      },
      "source": [
        "print(\"maximum length of Hindi Sentence \",max(lines['length_hin']))\n",
        "print(\"maximum length of English Sentence \",max(lines['length_eng']))"
      ],
      "execution_count": 14,
      "outputs": [
        {
          "output_type": "stream",
          "name": "stdout",
          "text": [
            "maximum length of Hindi Sentence  20\n",
            "maximum length of English Sentence  20\n"
          ]
        }
      ]
    },
    {
      "cell_type": "code",
      "metadata": {
        "papermill": {
          "duration": 0.058618,
          "end_time": "2020-09-23T09:39:14.139579",
          "exception": false,
          "start_time": "2020-09-23T09:39:14.080961",
          "status": "completed"
        },
        "tags": [],
        "id": "Wi7FJyAZxh_H"
      },
      "source": [
        "max_length_src=max(lines['length_hin'])\n",
        "max_length_tar=max(lines['length_eng'])"
      ],
      "execution_count": 15,
      "outputs": []
    },
    {
      "cell_type": "code",
      "metadata": {
        "papermill": {
          "duration": 0.069065,
          "end_time": "2020-09-23T09:39:14.249995",
          "exception": false,
          "start_time": "2020-09-23T09:39:14.180930",
          "status": "completed"
        },
        "tags": [],
        "id": "BKRi9rCmxh_I",
        "colab": {
          "base_uri": "https://localhost:8080/"
        },
        "outputId": "d1c6cb60-e9f2-4e28-a027-5bbedb8faa94"
      },
      "source": [
        "input_words = sorted(list(all_eng_words))\n",
        "target_words = sorted(list(all_hindi_words))\n",
        "num_encoder_tokens = len(all_eng_words)\n",
        "num_decoder_tokens = len(all_hindi_words)\n",
        "num_encoder_tokens, num_decoder_tokens"
      ],
      "execution_count": 16,
      "outputs": [
        {
          "output_type": "execute_result",
          "data": {
            "text/plain": [
              "(17345, 22285)"
            ]
          },
          "metadata": {},
          "execution_count": 16
        }
      ]
    },
    {
      "cell_type": "code",
      "metadata": {
        "papermill": {
          "duration": 0.050903,
          "end_time": "2020-09-23T09:39:14.473212",
          "exception": false,
          "start_time": "2020-09-23T09:39:14.422309",
          "status": "completed"
        },
        "tags": [],
        "id": "4x0JIH7fxh_I"
      },
      "source": [
        "num_decoder_tokens += 1"
      ],
      "execution_count": 17,
      "outputs": []
    },
    {
      "cell_type": "code",
      "metadata": {
        "papermill": {
          "duration": 0.058655,
          "end_time": "2020-09-23T09:39:14.682929",
          "exception": false,
          "start_time": "2020-09-23T09:39:14.624274",
          "status": "completed"
        },
        "tags": [],
        "id": "mwIhLfNdxh_J"
      },
      "source": [
        "input_token_index = dict([(word, i+1) for i, word in enumerate(input_words)])\n",
        "target_token_index = dict([(word, i+1) for i, word in enumerate(target_words)])"
      ],
      "execution_count": 18,
      "outputs": []
    },
    {
      "cell_type": "code",
      "metadata": {
        "papermill": {
          "duration": 0.057367,
          "end_time": "2020-09-23T09:39:14.926325",
          "exception": false,
          "start_time": "2020-09-23T09:39:14.868958",
          "status": "completed"
        },
        "tags": [],
        "id": "1rRPNxRVxh_J"
      },
      "source": [
        "reverse_input_char_index = dict((i, word) for word, i in input_token_index.items())\n",
        "reverse_target_char_index = dict((i, word) for word, i in target_token_index.items())"
      ],
      "execution_count": 19,
      "outputs": []
    },
    {
      "cell_type": "code",
      "metadata": {
        "papermill": {
          "duration": 0.065757,
          "end_time": "2020-09-23T09:39:15.179882",
          "exception": false,
          "start_time": "2020-09-23T09:39:15.114125",
          "status": "completed"
        },
        "tags": [],
        "id": "1OKn9swnxh_K",
        "colab": {
          "base_uri": "https://localhost:8080/",
          "height": 204
        },
        "outputId": "a5622c31-925d-4e23-ac77-c9c8fc62a108"
      },
      "source": [
        "lines.head()"
      ],
      "execution_count": 20,
      "outputs": [
        {
          "output_type": "execute_result",
          "data": {
            "text/html": [
              "<div>\n",
              "<style scoped>\n",
              "    .dataframe tbody tr th:only-of-type {\n",
              "        vertical-align: middle;\n",
              "    }\n",
              "\n",
              "    .dataframe tbody tr th {\n",
              "        vertical-align: top;\n",
              "    }\n",
              "\n",
              "    .dataframe thead th {\n",
              "        text-align: right;\n",
              "    }\n",
              "</style>\n",
              "<table border=\"1\" class=\"dataframe\">\n",
              "  <thead>\n",
              "    <tr style=\"text-align: right;\">\n",
              "      <th></th>\n",
              "      <th>source</th>\n",
              "      <th>english_sentence</th>\n",
              "      <th>hindi_sentence</th>\n",
              "      <th>length_eng</th>\n",
              "      <th>length_hin</th>\n",
              "    </tr>\n",
              "  </thead>\n",
              "  <tbody>\n",
              "    <tr>\n",
              "      <th>0</th>\n",
              "      <td>ted</td>\n",
              "      <td>politicians do not have permission to do what ...</td>\n",
              "      <td>START_ राजनीतिज्ञों के पास जो कार्य करना चाहिए...</td>\n",
              "      <td>12</td>\n",
              "      <td>15</td>\n",
              "    </tr>\n",
              "    <tr>\n",
              "      <th>1</th>\n",
              "      <td>ted</td>\n",
              "      <td>id like to tell you about one such child</td>\n",
              "      <td>START_ मई आपको ऐसे ही एक बच्चे के बारे में बता...</td>\n",
              "      <td>9</td>\n",
              "      <td>13</td>\n",
              "    </tr>\n",
              "    <tr>\n",
              "      <th>3</th>\n",
              "      <td>ted</td>\n",
              "      <td>what we really mean is that theyre bad at not ...</td>\n",
              "      <td>START_ हम ये नहीं कहना चाहते कि वो ध्यान नहीं ...</td>\n",
              "      <td>12</td>\n",
              "      <td>13</td>\n",
              "    </tr>\n",
              "    <tr>\n",
              "      <th>7</th>\n",
              "      <td>ted</td>\n",
              "      <td>and who are we to say even that they are wrong</td>\n",
              "      <td>START_ और हम होते कौन हैं यह कहने भी वाले कि व...</td>\n",
              "      <td>11</td>\n",
              "      <td>15</td>\n",
              "    </tr>\n",
              "    <tr>\n",
              "      <th>13</th>\n",
              "      <td>ted</td>\n",
              "      <td>so there is some sort of justice</td>\n",
              "      <td>START_ तो वहाँ न्याय है _END</td>\n",
              "      <td>7</td>\n",
              "      <td>6</td>\n",
              "    </tr>\n",
              "  </tbody>\n",
              "</table>\n",
              "</div>"
            ],
            "text/plain": [
              "   source  ... length_hin\n",
              "0     ted  ...         15\n",
              "1     ted  ...         13\n",
              "3     ted  ...         13\n",
              "7     ted  ...         15\n",
              "13    ted  ...          6\n",
              "\n",
              "[5 rows x 5 columns]"
            ]
          },
          "metadata": {},
          "execution_count": 20
        }
      ]
    },
    {
      "cell_type": "code",
      "metadata": {
        "papermill": {
          "duration": 0.068781,
          "end_time": "2020-09-23T09:39:15.299053",
          "exception": false,
          "start_time": "2020-09-23T09:39:15.230272",
          "status": "completed"
        },
        "tags": [],
        "id": "Ykjujqetxh_K",
        "colab": {
          "base_uri": "https://localhost:8080/"
        },
        "outputId": "f155fcf5-f183-44b8-83c2-faa74500a726"
      },
      "source": [
        "from sklearn.model_selection import train_test_split\n",
        "X, y = lines['english_sentence'], lines['hindi_sentence']\n",
        "X_train, X_test, y_train, y_test = train_test_split(X, y, test_size = 0.1,random_state=42)\n",
        "X_train.shape, X_test.shape"
      ],
      "execution_count": 21,
      "outputs": [
        {
          "output_type": "execute_result",
          "data": {
            "text/plain": [
              "((35598,), (3956,))"
            ]
          },
          "metadata": {},
          "execution_count": 21
        }
      ]
    },
    {
      "cell_type": "code",
      "metadata": {
        "papermill": {
          "duration": 0.066119,
          "end_time": "2020-09-23T09:39:15.631110",
          "exception": false,
          "start_time": "2020-09-23T09:39:15.564991",
          "status": "completed"
        },
        "tags": [],
        "id": "s0TCOjWZxh_r"
      },
      "source": [
        "def generate_batch(X = X_train, y = y_train, batch_size = 128):\n",
        "    while True:\n",
        "        for j in range(0, len(X), batch_size):\n",
        "            encoder_input_data = np.zeros((batch_size, max_length_src),dtype='float32')\n",
        "            decoder_input_data = np.zeros((batch_size, max_length_tar),dtype='float32')\n",
        "            decoder_target_data = np.zeros((batch_size, max_length_tar, num_decoder_tokens),dtype='float32')\n",
        "            for i, (input_text, target_text) in enumerate(zip(X[j:j+batch_size], y[j:j+batch_size])):\n",
        "                for t, word in enumerate(input_text.split()):\n",
        "                    encoder_input_data[i, t] = input_token_index[word] # encoder input seq\n",
        "                for t, word in enumerate(target_text.split()):\n",
        "                    if t<len(target_text.split())-1:\n",
        "                        decoder_input_data[i, t] = target_token_index[word] # decoder input seq\n",
        "                    if t>0:\n",
        "                        # decoder target sequence (one hot encoded)\n",
        "                        # does not include the START_ token\n",
        "                        # Offset by one timestep\n",
        "                        decoder_target_data[i, t - 1, target_token_index[word]] = 1.\n",
        "            yield([encoder_input_data, decoder_input_data], decoder_target_data)"
      ],
      "execution_count": 22,
      "outputs": []
    },
    {
      "cell_type": "code",
      "metadata": {
        "papermill": {
          "duration": 1.110093,
          "end_time": "2020-09-23T09:39:16.791712",
          "exception": false,
          "start_time": "2020-09-23T09:39:15.681619",
          "status": "completed"
        },
        "tags": [],
        "id": "FQVJe-E0xh_t"
      },
      "source": [
        "latent_dim = 300\n",
        "# Encoder\n",
        "encoder_inputs = Input(shape=(None,))\n",
        "enc_emb =  Embedding(num_encoder_tokens+1, latent_dim, mask_zero = True)(encoder_inputs)\n",
        "encoder_lstm = LSTM(latent_dim, return_state=True)\n",
        "encoder_outputs, state_h, state_c = encoder_lstm(enc_emb)\n",
        "# We discard `encoder_outputs` and only keep the states.\n",
        "encoder_states = [state_h, state_c]"
      ],
      "execution_count": 23,
      "outputs": []
    },
    {
      "cell_type": "code",
      "metadata": {
        "papermill": {
          "duration": 0.955981,
          "end_time": "2020-09-23T09:39:17.799922",
          "exception": false,
          "start_time": "2020-09-23T09:39:16.843941",
          "status": "completed"
        },
        "tags": [],
        "id": "4zn5otUtxh_1"
      },
      "source": [
        "# Set up the decoder, using `encoder_states` as initial state.\n",
        "decoder_inputs = Input(shape=(None,))\n",
        "dec_emb_layer = Embedding(num_decoder_tokens+1, latent_dim, mask_zero = True)\n",
        "dec_emb = dec_emb_layer(decoder_inputs)\n",
        "# We set up our decoder to return full output sequences,\n",
        "# and to return internal states as well. We don't use the\n",
        "# return states in the training model, but we will use them in inference.\n",
        "decoder_lstm = LSTM(latent_dim, return_sequences=True, return_state=True)\n",
        "decoder_outputs, _, _ = decoder_lstm(dec_emb,\n",
        "                                     initial_state=encoder_states)\n",
        "decoder_dense = Dense(num_decoder_tokens, activation='softmax')\n",
        "decoder_outputs = decoder_dense(decoder_outputs)\n",
        "\n",
        "# Define the model that will turn\n",
        "# `encoder_input_data` & `decoder_input_data` into `decoder_target_data`\n",
        "model = Model([encoder_inputs, decoder_inputs], decoder_outputs)"
      ],
      "execution_count": 24,
      "outputs": []
    },
    {
      "cell_type": "code",
      "metadata": {
        "papermill": {
          "duration": 0.070214,
          "end_time": "2020-09-23T09:39:17.924937",
          "exception": false,
          "start_time": "2020-09-23T09:39:17.854723",
          "status": "completed"
        },
        "tags": [],
        "id": "u-eVKhP8xh_2"
      },
      "source": [
        "model.compile(optimizer='adam', loss='categorical_crossentropy',metrics=['accuracy'])"
      ],
      "execution_count": 25,
      "outputs": []
    },
    {
      "cell_type": "code",
      "metadata": {
        "papermill": {
          "duration": 0.065645,
          "end_time": "2020-09-23T09:39:18.040987",
          "exception": false,
          "start_time": "2020-09-23T09:39:17.975342",
          "status": "completed"
        },
        "tags": [],
        "id": "Bmn21dbmxh_2",
        "colab": {
          "base_uri": "https://localhost:8080/"
        },
        "outputId": "70002cf5-5fba-4844-d35d-f1178cfc6f70"
      },
      "source": [
        "model.summary()\n",
        "train_samples = len(X_train)\n",
        "val_samples = len(X_test)\n",
        "batch_size = 64\n",
        "epochs = 40"
      ],
      "execution_count": 26,
      "outputs": [
        {
          "output_type": "stream",
          "name": "stdout",
          "text": [
            "Model: \"model\"\n",
            "__________________________________________________________________________________________________\n",
            "Layer (type)                    Output Shape         Param #     Connected to                     \n",
            "==================================================================================================\n",
            "input_1 (InputLayer)            [(None, None)]       0                                            \n",
            "__________________________________________________________________________________________________\n",
            "input_2 (InputLayer)            [(None, None)]       0                                            \n",
            "__________________________________________________________________________________________________\n",
            "embedding (Embedding)           (None, None, 300)    5203800     input_1[0][0]                    \n",
            "__________________________________________________________________________________________________\n",
            "embedding_1 (Embedding)         (None, None, 300)    6686100     input_2[0][0]                    \n",
            "__________________________________________________________________________________________________\n",
            "lstm (LSTM)                     [(None, 300), (None, 721200      embedding[0][0]                  \n",
            "__________________________________________________________________________________________________\n",
            "lstm_1 (LSTM)                   [(None, None, 300),  721200      embedding_1[0][0]                \n",
            "                                                                 lstm[0][1]                       \n",
            "                                                                 lstm[0][2]                       \n",
            "__________________________________________________________________________________________________\n",
            "dense (Dense)                   (None, None, 22286)  6708086     lstm_1[0][0]                     \n",
            "==================================================================================================\n",
            "Total params: 20,040,386\n",
            "Trainable params: 20,040,386\n",
            "Non-trainable params: 0\n",
            "__________________________________________________________________________________________________\n"
          ]
        }
      ]
    },
    {
      "cell_type": "code",
      "metadata": {
        "papermill": {
          "duration": 12510.406155,
          "end_time": "2020-09-23T13:07:49.026162",
          "exception": false,
          "start_time": "2020-09-23T09:39:18.620007",
          "status": "completed"
        },
        "tags": [],
        "id": "mE5eL6gwxh_3",
        "colab": {
          "base_uri": "https://localhost:8080/"
        },
        "outputId": "e63671dc-bcc3-4a26-8d4d-8954c41a5e35"
      },
      "source": [
        "model.fit_generator(generator = generate_batch(X_train, y_train, batch_size = batch_size),\n",
        "                    steps_per_epoch = train_samples/batch_size,\n",
        "                    epochs=epochs,\n",
        "                    validation_data = generate_batch(X_test, y_test, batch_size = batch_size),\n",
        "                    validation_steps = val_samples/batch_size)"
      ],
      "execution_count": 27,
      "outputs": [
        {
          "output_type": "stream",
          "name": "stdout",
          "text": [
            "Epoch 1/40\n"
          ]
        },
        {
          "output_type": "stream",
          "name": "stderr",
          "text": [
            "/usr/local/lib/python3.7/dist-packages/keras/engine/training.py:1972: UserWarning: `Model.fit_generator` is deprecated and will be removed in a future version. Please use `Model.fit`, which supports generators.\n",
            "  warnings.warn('`Model.fit_generator` is deprecated and '\n"
          ]
        },
        {
          "output_type": "stream",
          "name": "stdout",
          "text": [
            "556/556 [==============================] - 670s 1s/step - loss: 2.8690 - accuracy: 0.1519 - val_loss: 2.6120 - val_accuracy: 0.1850\n",
            "Epoch 2/40\n",
            "556/556 [==============================] - 672s 1s/step - loss: 2.4812 - accuracy: 0.2064 - val_loss: 2.4748 - val_accuracy: 0.2214\n",
            "Epoch 3/40\n",
            "556/556 [==============================] - 664s 1s/step - loss: 2.2791 - accuracy: 0.2465 - val_loss: 2.3783 - val_accuracy: 0.2529\n",
            "Epoch 4/40\n",
            "556/556 [==============================] - 663s 1s/step - loss: 2.0917 - accuracy: 0.2796 - val_loss: 2.3261 - val_accuracy: 0.2665\n",
            "Epoch 5/40\n",
            "556/556 [==============================] - 662s 1s/step - loss: 1.9216 - accuracy: 0.3051 - val_loss: 2.2986 - val_accuracy: 0.2753\n",
            "Epoch 6/40\n",
            "556/556 [==============================] - 664s 1s/step - loss: 1.7665 - accuracy: 0.3279 - val_loss: 2.2896 - val_accuracy: 0.2807\n",
            "Epoch 7/40\n",
            "556/556 [==============================] - 665s 1s/step - loss: 1.6227 - accuracy: 0.3537 - val_loss: 2.2993 - val_accuracy: 0.2821\n",
            "Epoch 8/40\n",
            "556/556 [==============================] - 665s 1s/step - loss: 1.4880 - accuracy: 0.3856 - val_loss: 2.3124 - val_accuracy: 0.2836\n",
            "Epoch 9/40\n",
            "556/556 [==============================] - 668s 1s/step - loss: 1.3627 - accuracy: 0.4224 - val_loss: 2.3335 - val_accuracy: 0.2834\n",
            "Epoch 10/40\n",
            "556/556 [==============================] - 666s 1s/step - loss: 1.2471 - accuracy: 0.4598 - val_loss: 2.3586 - val_accuracy: 0.2828\n",
            "Epoch 11/40\n",
            "556/556 [==============================] - 666s 1s/step - loss: 1.1428 - accuracy: 0.4966 - val_loss: 2.3808 - val_accuracy: 0.2854\n",
            "Epoch 12/40\n",
            "556/556 [==============================] - 663s 1s/step - loss: 1.0480 - accuracy: 0.5313 - val_loss: 2.4148 - val_accuracy: 0.2864\n",
            "Epoch 13/40\n",
            "556/556 [==============================] - 661s 1s/step - loss: 0.9624 - accuracy: 0.5640 - val_loss: 2.4588 - val_accuracy: 0.2843\n",
            "Epoch 14/40\n",
            "556/556 [==============================] - 660s 1s/step - loss: 0.8844 - accuracy: 0.5948 - val_loss: 2.4957 - val_accuracy: 0.2832\n",
            "Epoch 15/40\n",
            "556/556 [==============================] - 661s 1s/step - loss: 0.8139 - accuracy: 0.6240 - val_loss: 2.5253 - val_accuracy: 0.2789\n",
            "Epoch 16/40\n",
            "556/556 [==============================] - 662s 1s/step - loss: 0.7498 - accuracy: 0.6510 - val_loss: 2.5664 - val_accuracy: 0.2795\n",
            "Epoch 17/40\n",
            "556/556 [==============================] - 660s 1s/step - loss: 0.6889 - accuracy: 0.6778 - val_loss: 2.6135 - val_accuracy: 0.2749\n",
            "Epoch 18/40\n",
            "556/556 [==============================] - 672s 1s/step - loss: 0.6323 - accuracy: 0.7031 - val_loss: 2.6621 - val_accuracy: 0.2750\n",
            "Epoch 19/40\n",
            "556/556 [==============================] - 677s 1s/step - loss: 0.5790 - accuracy: 0.7274 - val_loss: 2.7123 - val_accuracy: 0.2779\n",
            "Epoch 20/40\n",
            "556/556 [==============================] - 683s 1s/step - loss: 0.5287 - accuracy: 0.7519 - val_loss: 2.7589 - val_accuracy: 0.2715\n",
            "Epoch 21/40\n",
            "556/556 [==============================] - 689s 1s/step - loss: 0.4825 - accuracy: 0.7740 - val_loss: 2.8085 - val_accuracy: 0.2653\n",
            "Epoch 22/40\n",
            "556/556 [==============================] - 688s 1s/step - loss: 0.4404 - accuracy: 0.7938 - val_loss: 2.8624 - val_accuracy: 0.2609\n",
            "Epoch 23/40\n",
            "556/556 [==============================] - 685s 1s/step - loss: 0.4017 - accuracy: 0.8130 - val_loss: 2.9160 - val_accuracy: 0.2633\n",
            "Epoch 24/40\n",
            "556/556 [==============================] - 674s 1s/step - loss: 0.3659 - accuracy: 0.8309 - val_loss: 2.9682 - val_accuracy: 0.2638\n",
            "Epoch 25/40\n",
            "556/556 [==============================] - 669s 1s/step - loss: 0.3333 - accuracy: 0.8455 - val_loss: 3.0344 - val_accuracy: 0.2646\n",
            "Epoch 26/40\n",
            "556/556 [==============================] - 677s 1s/step - loss: 0.3008 - accuracy: 0.8622 - val_loss: 3.0837 - val_accuracy: 0.2636\n",
            "Epoch 27/40\n",
            "556/556 [==============================] - 679s 1s/step - loss: 0.2720 - accuracy: 0.8773 - val_loss: 3.1286 - val_accuracy: 0.2590\n",
            "Epoch 28/40\n",
            "556/556 [==============================] - 682s 1s/step - loss: 0.2461 - accuracy: 0.8900 - val_loss: 3.1716 - val_accuracy: 0.2564\n",
            "Epoch 29/40\n",
            "556/556 [==============================] - 684s 1s/step - loss: 0.2232 - accuracy: 0.9010 - val_loss: 3.2355 - val_accuracy: 0.2566\n",
            "Epoch 30/40\n",
            "556/556 [==============================] - 682s 1s/step - loss: 0.2003 - accuracy: 0.9133 - val_loss: 3.2930 - val_accuracy: 0.2586\n",
            "Epoch 31/40\n",
            "556/556 [==============================] - 678s 1s/step - loss: 0.1794 - accuracy: 0.9234 - val_loss: 3.3419 - val_accuracy: 0.2555\n",
            "Epoch 32/40\n",
            "556/556 [==============================] - 675s 1s/step - loss: 0.1619 - accuracy: 0.9323 - val_loss: 3.3871 - val_accuracy: 0.2499\n",
            "Epoch 33/40\n",
            "556/556 [==============================] - 676s 1s/step - loss: 0.1463 - accuracy: 0.9397 - val_loss: 3.4423 - val_accuracy: 0.2474\n",
            "Epoch 34/40\n",
            "556/556 [==============================] - 677s 1s/step - loss: 0.1305 - accuracy: 0.9480 - val_loss: 3.4971 - val_accuracy: 0.2489\n",
            "Epoch 35/40\n",
            "556/556 [==============================] - 678s 1s/step - loss: 0.1161 - accuracy: 0.9548 - val_loss: 3.5522 - val_accuracy: 0.2513\n",
            "Epoch 36/40\n",
            "556/556 [==============================] - 681s 1s/step - loss: 0.1044 - accuracy: 0.9604 - val_loss: 3.6053 - val_accuracy: 0.2538\n",
            "Epoch 37/40\n",
            "556/556 [==============================] - 681s 1s/step - loss: 0.0952 - accuracy: 0.9642 - val_loss: 3.6542 - val_accuracy: 0.2520\n",
            "Epoch 38/40\n",
            "556/556 [==============================] - 682s 1s/step - loss: 0.0865 - accuracy: 0.9683 - val_loss: 3.7007 - val_accuracy: 0.2527\n",
            "Epoch 39/40\n",
            "556/556 [==============================] - 677s 1s/step - loss: 0.0786 - accuracy: 0.9718 - val_loss: 3.7467 - val_accuracy: 0.2550\n",
            "Epoch 40/40\n",
            "556/556 [==============================] - 678s 1s/step - loss: 0.0700 - accuracy: 0.9757 - val_loss: 3.7983 - val_accuracy: 0.2548\n"
          ]
        },
        {
          "output_type": "execute_result",
          "data": {
            "text/plain": [
              "<keras.callbacks.History at 0x7f616c27f650>"
            ]
          },
          "metadata": {},
          "execution_count": 27
        }
      ]
    },
    {
      "cell_type": "code",
      "metadata": {
        "id": "nyUa3mHp3orX"
      },
      "source": [
        "def encodeString(input_text):\n",
        "    encoder_input_data = np.zeros((len(input_text.split()), max_length_src),dtype='float32')\n",
        "    for t, word in enumerate(input_text.split()):\n",
        "        encoder_input_data[t] = input_token_index[word]\n",
        "    return encoder_input_data"
      ],
      "execution_count": 28,
      "outputs": []
    },
    {
      "cell_type": "code",
      "metadata": {
        "papermill": {
          "duration": 12.123029,
          "end_time": "2020-09-23T13:08:12.919624",
          "exception": false,
          "start_time": "2020-09-23T13:08:00.796595",
          "status": "completed"
        },
        "tags": [],
        "id": "XX-w8PPfxh_3"
      },
      "source": [
        "train_gen = generate_batch(X_train, y_train, batch_size = 1)\n",
        "k=-1"
      ],
      "execution_count": 29,
      "outputs": []
    },
    {
      "cell_type": "code",
      "metadata": {
        "papermill": {
          "duration": 12.889578,
          "end_time": "2020-09-23T13:08:37.824206",
          "exception": false,
          "start_time": "2020-09-23T13:08:24.934628",
          "status": "completed"
        },
        "tags": [],
        "id": "FTCodkN7xh_3"
      },
      "source": [
        "# Encode the input sequence to get the \"thought vectors\"\n",
        "encoder_model = Model(encoder_inputs, encoder_states)\n",
        "\n",
        "# Decoder setup\n",
        "# Below tensors will hold the states of the previous time step\n",
        "decoder_state_input_h = Input(shape=(latent_dim,))\n",
        "decoder_state_input_c = Input(shape=(latent_dim,))\n",
        "decoder_states_inputs = [decoder_state_input_h, decoder_state_input_c]\n",
        "\n",
        "dec_emb2= dec_emb_layer(decoder_inputs) # Get the embeddings of the decoder sequence\n",
        "\n",
        "# To predict the next word in the sequence, set the initial states to the states from the previous time step\n",
        "decoder_outputs2, state_h2, state_c2 = decoder_lstm(dec_emb2, initial_state=decoder_states_inputs)\n",
        "decoder_states2 = [state_h2, state_c2]\n",
        "decoder_outputs2 = decoder_dense(decoder_outputs2) # A dense softmax layer to generate prob dist. over the target vocabulary\n",
        "\n",
        "# Final decoder model\n",
        "decoder_model = Model(\n",
        "    [decoder_inputs] + decoder_states_inputs,\n",
        "    [decoder_outputs2] + decoder_states2)"
      ],
      "execution_count": 30,
      "outputs": []
    },
    {
      "cell_type": "code",
      "metadata": {
        "id": "jJUi9Kcb6G5g",
        "colab": {
          "base_uri": "https://localhost:8080/"
        },
        "outputId": "9f098bd4-1dfc-4bbc-bd7d-c96f00837c97"
      },
      "source": [
        "encoder_model.save(\"/content/drive/MyDrive/NMT_Data/NMT_EnglishToHindi_Encoder.h5\")\n",
        "decoder_model.save(\"/content/drive/MyDrive/NMT_Data/NMT_EnglishToHindi_Decoder.h5\")"
      ],
      "execution_count": 31,
      "outputs": [
        {
          "output_type": "stream",
          "name": "stdout",
          "text": [
            "WARNING:tensorflow:Compiled the loaded model, but the compiled metrics have yet to be built. `model.compile_metrics` will be empty until you train or evaluate the model.\n",
            "WARNING:tensorflow:Compiled the loaded model, but the compiled metrics have yet to be built. `model.compile_metrics` will be empty until you train or evaluate the model.\n"
          ]
        }
      ]
    },
    {
      "cell_type": "code",
      "metadata": {
        "papermill": {
          "duration": 11.946708,
          "end_time": "2020-09-23T13:09:01.527037",
          "exception": false,
          "start_time": "2020-09-23T13:08:49.580329",
          "status": "completed"
        },
        "tags": [],
        "id": "fNusMKxCxh_4"
      },
      "source": [
        "def decode_sequence(input_seq):\n",
        "    # Encode the input as state vectors.\n",
        "    states_value = encoder_model.predict(input_seq)\n",
        "    \n",
        "    target_seq = np.zeros((len(input_seq),len(input_seq)))\n",
        "    # Populate the first character of target sequence with the start character.\n",
        "    target_seq[0, 0] = target_token_index['START_']\n",
        "\n",
        "    # Sampling loop for a batch of sequences\n",
        "    # (to simplify, here we assume a batch of size 1).\n",
        "    stop_condition = False\n",
        "    decoded_sentence = ''\n",
        "    while not stop_condition:\n",
        "        output_tokens, h, c = decoder_model.predict([target_seq] + states_value)\n",
        "\n",
        "        # Sample a token\n",
        "        sampled_token_index = np.argmax(output_tokens[0, -1, :])\n",
        "        sampled_char = reverse_target_char_index[sampled_token_index]\n",
        "        decoded_sentence += ' '+sampled_char\n",
        "\n",
        "        # Exit condition: either hit max length\n",
        "        # or find stop character.\n",
        "        if (sampled_char == '_END' or\n",
        "           len(decoded_sentence) > 50):\n",
        "            stop_condition = True\n",
        "\n",
        "        target_seq = np.zeros((len(input_seq),len(input_seq)))\n",
        "        target_seq[0, 0] = sampled_token_index\n",
        "\n",
        "        # Update states\n",
        "        states_value = [h, c]\n",
        "\n",
        "    return decoded_sentence"
      ],
      "execution_count": 32,
      "outputs": []
    },
    {
      "cell_type": "code",
      "metadata": {
        "papermill": {
          "duration": 14.297025,
          "end_time": "2020-09-23T13:09:27.769090",
          "exception": false,
          "start_time": "2020-09-23T13:09:13.472065",
          "status": "completed"
        },
        "tags": [],
        "id": "aznzua0_xh_4",
        "colab": {
          "base_uri": "https://localhost:8080/"
        },
        "outputId": "872a3e58-78d3-4d65-c0ff-51340734514f"
      },
      "source": [
        "k+=1\n",
        "(input_seq, actual_output), _ = next(train_gen)\n",
        "decoded_sentence = decode_sequence(input_seq)\n",
        "print('Input English sentence:', X_train[k:k+1].values[0])\n",
        "print('Actual Hindi Translation:', y_train[k:k+1].values[0][6:-4])\n",
        "print('Predicted Hindi Translation:', decoded_sentence[:-4])"
      ],
      "execution_count": 33,
      "outputs": [
        {
          "output_type": "stream",
          "name": "stdout",
          "text": [
            "Input English sentence: so ive been talking to a lot of nasa jpl scientists\n",
            "Actual Hindi Translation:  तो nasa jpl के वैज्ञानिको से मेरी बाते होती रहती थी \n",
            "Predicted Hindi Translation:  तो nasa jpl के वैज्ञानिको से मेरी बाते होती रहत\n"
          ]
        }
      ]
    },
    {
      "cell_type": "code",
      "metadata": {
        "papermill": {
          "duration": 12.077802,
          "end_time": "2020-09-23T13:09:51.841489",
          "exception": false,
          "start_time": "2020-09-23T13:09:39.763687",
          "status": "completed"
        },
        "tags": [],
        "id": "scSw-Vq1xh_5",
        "colab": {
          "base_uri": "https://localhost:8080/"
        },
        "outputId": "e71fa690-c381-45ad-8a95-a574704e6bf3"
      },
      "source": [
        "k+=1\n",
        "(input_seq, actual_output), _ = next(train_gen)\n",
        "decoded_sentence = decode_sequence(input_seq)\n",
        "print('Input English sentence:', X_train[k:k+1].values[0])\n",
        "print('Actual Hindi Translation:', y_train[k:k+1].values[0][6:-4])\n",
        "print('Predicted Hindi Translation:', decoded_sentence[:-4])"
      ],
      "execution_count": 34,
      "outputs": [
        {
          "output_type": "stream",
          "name": "stdout",
          "text": [
            "Input English sentence: and really get in the process\n",
            "Actual Hindi Translation:  और पुनर्विचार की प्रक्रिया \n",
            "Predicted Hindi Translation:  और पुनर्विचार की प्रक्रिया \n"
          ]
        }
      ]
    },
    {
      "cell_type": "code",
      "metadata": {
        "papermill": {
          "duration": 12.571678,
          "end_time": "2020-09-23T13:10:16.319526",
          "exception": false,
          "start_time": "2020-09-23T13:10:03.747848",
          "status": "completed"
        },
        "tags": [],
        "id": "jpgSGWAxxh_5",
        "colab": {
          "base_uri": "https://localhost:8080/"
        },
        "outputId": "a48a326c-b320-46b2-f3cc-566e2ad2e810"
      },
      "source": [
        "k+=1\n",
        "(input_seq, actual_output), _ = next(train_gen)\n",
        "decoded_sentence = decode_sequence(input_seq)\n",
        "print('Input English sentence:', X_train[k:k+1].values[0])\n",
        "print('Actual Hindi Translation:', y_train[k:k+1].values[0][6:-4])\n",
        "print('Predicted Hindi Translation:', decoded_sentence[:-4])"
      ],
      "execution_count": 35,
      "outputs": [
        {
          "output_type": "stream",
          "name": "stdout",
          "text": [
            "Input English sentence: so my art became slightly more critical\n",
            "Actual Hindi Translation:  और मेरी कला थोडी और ज्यादा आलोचनात्मक हो गयी। \n",
            "Predicted Hindi Translation:  और मेरी बात थोडी और ज्यादा आलोचनात्मक हो गयी। \n"
          ]
        }
      ]
    },
    {
      "cell_type": "code",
      "metadata": {
        "id": "wJa2yxxqxh_6"
      },
      "source": [
        "model.save(\"/content/drive/MyDrive/NMT_Data/NMT_EnglishToHindi.h5\")"
      ],
      "execution_count": 36,
      "outputs": []
    },
    {
      "cell_type": "code",
      "metadata": {
        "id": "2-FQYa8-pLQm"
      },
      "source": [
        "import tensorflowjs"
      ],
      "execution_count": 39,
      "outputs": []
    },
    {
      "cell_type": "code",
      "metadata": {
        "id": "M18Nys7qxh_6"
      },
      "source": [
        "!tensorflowjs_converter --input_format keras '/content/drive/MyDrive/NMT_Data/NMT_EnglishToHindi.h5' '/content/drive/MyDrive/NMT_Data/NMT_EnglishToHindi'"
      ],
      "execution_count": 40,
      "outputs": []
    }
  ]
}